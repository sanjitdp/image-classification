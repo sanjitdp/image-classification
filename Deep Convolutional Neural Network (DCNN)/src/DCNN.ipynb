{
 "nbformat": 4,
 "nbformat_minor": 0,
 "metadata": {
  "colab": {
   "name": "DCNN.ipynb",
   "provenance": [],
   "collapsed_sections": []
  },
  "kernelspec": {
   "name": "python3",
   "display_name": "Python 3"
  },
  "language_info": {
   "name": "python"
  },
  "accelerator": "GPU",
  "gpuClass": "standard"
 },
 "cells": [
  {
   "cell_type": "markdown",
   "source": [
    "# Importing Libraries"
   ],
   "metadata": {
    "id": "DuuXvXxUxS0z",
    "pycharm": {
     "name": "#%% md\n"
    }
   }
  },
  {
   "cell_type": "code",
   "source": [
    "import torch\n",
    "import torchvision\n",
    "import torch.nn as nn\n",
    "import torch.optim as optim\n",
    "import torchvision.transforms as transforms\n",
    "import matplotlib.pyplot as plt\n",
    "import matplotlib.ticker as mtick\n",
    "import time\n",
    "\n",
    "%matplotlib inline"
   ],
   "metadata": {
    "id": "PM3HCFrexWRg",
    "pycharm": {
     "name": "#%%\n"
    }
   },
   "execution_count": 1,
   "outputs": []
  },
  {
   "cell_type": "markdown",
   "source": [
    "# Loading and Transforming Data"
   ],
   "metadata": {
    "id": "ya3chPcC4U2E",
    "pycharm": {
     "name": "#%% md\n"
    }
   }
  },
  {
   "cell_type": "code",
   "source": [
    "# Define image transformation\n",
    "torch.manual_seed(0)\n",
    "\n",
    "img_transform = transforms.Compose([\n",
    "    transforms.ToTensor(),\n",
    "    transforms.Normalize((0.5,), (0.5,))\n",
    "    ])"
   ],
   "metadata": {
    "id": "MeupAQjlyEAm",
    "pycharm": {
     "name": "#%%\n"
    }
   },
   "execution_count": 2,
   "outputs": []
  },
  {
   "cell_type": "code",
   "source": [
    "# Create loaders for transformed image data\n",
    "train_data = torchvision.datasets.FashionMNIST(root=\"../data\", train=True, download=True, transform=img_transform)\n",
    "train_loader = torch.utils.data.DataLoader(train_data, batch_size=60, shuffle=True)\n",
    "\n",
    "test_data = torchvision.datasets.FashionMNIST(root=\"../data\", train=False, download=True, transform=img_transform)\n",
    "test_loader = torch.utils.data.DataLoader(test_data, batch_size=60, shuffle=False)"
   ],
   "metadata": {
    "id": "9aiLXuSnPGYN",
    "pycharm": {
     "name": "#%%\n"
    }
   },
   "execution_count": 3,
   "outputs": []
  },
  {
   "cell_type": "markdown",
   "source": [
    "# Visualizing Data"
   ],
   "metadata": {
    "id": "DPifR1kFR5up",
    "pycharm": {
     "name": "#%% md\n"
    }
   }
  },
  {
   "cell_type": "code",
   "source": [
    "labels_map = {\n",
    "    0: \"T-shirt / top\",\n",
    "    1: \"Trouser\",\n",
    "    2: \"Pullover\",\n",
    "    3: \"Dress\",\n",
    "    4: \"Coat\",\n",
    "    5: \"Sandal\",\n",
    "    6: \"Shirt\",\n",
    "    7: \"Sneaker\",\n",
    "    8: \"Bag\",\n",
    "    9: \"Ankle Boot\",\n",
    "}\n",
    "\n",
    "fig = plt.figure()\n",
    "\n",
    "for i in range(3):\n",
    "    img, label = train_data[torch.randint(high=len(train_data)-1, size=(1,)).item()]\n",
    "    fig.add_subplot(1, 3, i + 1)\n",
    "    plt.title(labels_map[label])\n",
    "    plt.axis(\"off\")\n",
    "    plt.imshow(img.squeeze(), cmap=\"gray\")\n",
    "\n",
    "plt.show()"
   ],
   "metadata": {
    "colab": {
     "base_uri": "https://localhost:8080/",
     "height": 145
    },
    "id": "XukQPov3R8ht",
    "outputId": "be7418a1-1439-4aaa-d3de-e55ff51d6c0b",
    "pycharm": {
     "name": "#%%\n"
    }
   },
   "execution_count": 4,
   "outputs": [
    {
     "data": {
      "text/plain": "<Figure size 432x288 with 3 Axes>",
      "image/png": "[encoded data removed]"
     },
     "metadata": {
      "needs_background": "light"
     },
     "output_type": "display_data"
    }
   ]
  },
  {
   "cell_type": "markdown",
   "source": [
    "# Creating Model"
   ],
   "metadata": {
    "id": "MMnrnp5yMplT",
    "pycharm": {
     "name": "#%% md\n"
    }
   }
  },
  {
   "cell_type": "code",
   "source": [
    "# set up GPU device\n",
    "device = torch.device(\"cuda\" if torch.cuda.is_available() else \"cpu\")\n",
    "device"
   ],
   "metadata": {
    "colab": {
     "base_uri": "https://localhost:8080/"
    },
    "id": "5CrV1U32Mt2y",
    "outputId": "b1ccab3a-a522-48c2-ea66-b4f9c9a60eb4",
    "pycharm": {
     "name": "#%%\n"
    }
   },
   "execution_count": 5,
   "outputs": [
    {
     "data": {
      "text/plain": "device(type='cpu')"
     },
     "execution_count": 5,
     "metadata": {},
     "output_type": "execute_result"
    }
   ]
  },
  {
   "cell_type": "code",
   "source": [
    "# Set up DCNN\n",
    "class ConvolutionalNeuralNetwork(nn.Module):\n",
    "  def __init__(self):\n",
    "    super(ConvolutionalNeuralNetwork, self).__init__()\n",
    "\n",
    "    self.conv1 = nn.Conv2d(1, 6, 5)\n",
    "    self.conv2 = nn.Conv2d(6, 16, 5)\n",
    "    self.pool = nn.MaxPool2d(2)\n",
    "    self.flatten = nn.Flatten()\n",
    "    self.relu = nn.ReLU()\n",
    "    self.linear_stack = nn.Sequential(\n",
    "        nn.Linear(16 * 4 * 4, 120),\n",
    "        nn.ReLU(),\n",
    "        nn.Linear(120, 84),\n",
    "        nn.ReLU(),\n",
    "        nn.Linear(84, 10)\n",
    "    )\n",
    "  \n",
    "  def forward(self, x):\n",
    "    x = self.pool(self.relu(self.conv1(x)))\n",
    "    x = self.pool(self.relu(self.conv2(x)))\n",
    "    x = self.linear_stack(self.flatten(x))\n",
    "    return x"
   ],
   "metadata": {
    "id": "m1MUoVKN4aMt",
    "pycharm": {
     "name": "#%%\n"
    }
   },
   "execution_count": 6,
   "outputs": []
  },
  {
   "cell_type": "code",
   "source": [
    "# Create instance of model on GPU\n",
    "model = ConvolutionalNeuralNetwork()\n",
    "model.to(device)"
   ],
   "metadata": {
    "colab": {
     "base_uri": "https://localhost:8080/"
    },
    "id": "88UniAm3fqAH",
    "outputId": "f4209f80-5c31-4b35-9dd2-bfddcf996fc5",
    "pycharm": {
     "name": "#%%\n"
    }
   },
   "execution_count": 7,
   "outputs": [
    {
     "data": {
      "text/plain": "ConvolutionalNeuralNetwork(\n  (conv1): Conv2d(1, 6, kernel_size=(5, 5), stride=(1, 1))\n  (conv2): Conv2d(6, 16, kernel_size=(5, 5), stride=(1, 1))\n  (pool): MaxPool2d(kernel_size=2, stride=2, padding=0, dilation=1, ceil_mode=False)\n  (flatten): Flatten(start_dim=1, end_dim=-1)\n  (relu): ReLU()\n  (linear_stack): Sequential(\n    (0): Linear(in_features=256, out_features=120, bias=True)\n    (1): ReLU()\n    (2): Linear(in_features=120, out_features=84, bias=True)\n    (3): ReLU()\n    (4): Linear(in_features=84, out_features=10, bias=True)\n  )\n)"
     },
     "execution_count": 7,
     "metadata": {},
     "output_type": "execute_result"
    }
   ]
  },
  {
   "cell_type": "code",
   "source": [
    "# Choose loss function and optimizer\n",
    "loss_fn = nn.CrossEntropyLoss()\n",
    "optimizer = optim.SGD(model.parameters(), lr=0.001, momentum=0.9)"
   ],
   "metadata": {
    "id": "L36TJS-aQaYC",
    "pycharm": {
     "name": "#%%\n"
    }
   },
   "execution_count": 8,
   "outputs": []
  },
  {
   "cell_type": "code",
   "source": [
    "# Train model for one epoch\n",
    "def train_one_epoch(model, loader, loss_fn, optimizer, device):\n",
    "  for batch, (inputs, labels) in enumerate(loader):\n",
    "    # Move training data to GPU\n",
    "    inputs, labels = inputs.to(device), labels.to(device)\n",
    "\n",
    "    # Predict and compute loss\n",
    "    labels_pred = model(inputs)\n",
    "    loss = loss_fn(labels_pred, labels)\n",
    "\n",
    "    # Backpropagation to learn weights\n",
    "    optimizer.zero_grad()\n",
    "    loss.backward()\n",
    "    optimizer.step()\n",
    "\n",
    "    if batch % 100 == 0:\n",
    "      print(f\"Loss: {loss.item():>7f} [{batch*len(inputs):>5d} / {len(loader.dataset):>5d}]\")\n",
    "  \n",
    "  return loss.item()"
   ],
   "metadata": {
    "id": "qh97Jdj6jm6X",
    "pycharm": {
     "name": "#%%\n"
    }
   },
   "execution_count": 9,
   "outputs": []
  },
  {
   "cell_type": "code",
   "source": [
    "# Test model for one epoch\n",
    "def test_one_epoch(model, loader, loss_fn, device):\n",
    "  with torch.no_grad():\n",
    "    running_loss = 0\n",
    "    running_correct = 0\n",
    "\n",
    "    for batch, (inputs, labels) in enumerate(loader):\n",
    "      # Move training data to GPU\n",
    "      inputs, labels = inputs.to(device), labels.to(device)\n",
    "\n",
    "      # Predict and compute loss\n",
    "      labels_pred = model(inputs)\n",
    "\n",
    "      # Add to running loss\n",
    "      loss = loss_fn(labels_pred, labels)\n",
    "      running_loss += loss\n",
    "\n",
    "      # Add to running correct count\n",
    "      correct = (labels_pred.argmax(1) == labels).type(torch.float).sum().item()\n",
    "      running_correct += correct\n",
    "      \n",
    "    print(f\"\\nAvg. Validation Loss: {running_loss/len(loader):>7f}\")\n",
    "    print(f\"Validation Accuracy: {running_correct/len(loader.dataset)*100:>2f}%\\n\")\n",
    "\n",
    "    return running_loss/len(loader), running_correct/len(loader.dataset)*100"
   ],
   "metadata": {
    "id": "hWL7kqJYnGts",
    "pycharm": {
     "name": "#%%\n"
    }
   },
   "execution_count": 10,
   "outputs": []
  },
  {
   "cell_type": "code",
   "source": [
    "# Number of epochs\n",
    "epochs = 10\n",
    "\n",
    "# Training loop\n",
    "train_loss = []\n",
    "test_loss = []\n",
    "\n",
    "start_time = time.time()\n",
    "for epoch in range(epochs):\n",
    "  print(f\"--------------------\\nEPOCH: {epoch+1}\\n--------------------\")\n",
    "  train_loss.append(train_one_epoch(model, train_loader, loss_fn, optimizer, device))\n",
    "  test_loss.append(test_one_epoch(model, test_loader, loss_fn, device))\n",
    "  print(f\"Time: {time.time()-start_time:>2f} seconds\\n\")\n",
    "\n",
    "# Save model\n",
    "print(\"Saving model...\")\n",
    "torch.save(model, \"../trained_models/dcnn_fashion_mnist\")\n",
    "\n",
    "print(\"Done!\")"
   ],
   "metadata": {
    "colab": {
     "base_uri": "https://localhost:8080/"
    },
    "id": "DWBvP8I8hw-B",
    "outputId": "fa6a7f12-e1b9-4777-c8c8-008ccd095766",
    "pycharm": {
     "name": "#%%\n"
    }
   },
   "execution_count": 11,
   "outputs": [
    {
     "name": "stdout",
     "output_type": "stream",
     "text": [
      "--------------------\n",
      "EPOCH: 1\n",
      "--------------------\n",
      "Loss: 2.295770 [    0 / 60000]\n",
      "Loss: 2.301045 [ 6000 / 60000]\n",
      "Loss: 2.282911 [12000 / 60000]\n",
      "Loss: 2.240196 [18000 / 60000]\n",
      "Loss: 2.136866 [24000 / 60000]\n",
      "Loss: 1.769071 [30000 / 60000]\n",
      "Loss: 1.076961 [36000 / 60000]\n",
      "Loss: 0.802085 [42000 / 60000]\n",
      "Loss: 0.671437 [48000 / 60000]\n",
      "Loss: 0.599884 [54000 / 60000]\n",
      "\n",
      "Avg. Validation Loss: 0.759081\n",
      "Validation Accuracy: 71.580000%\n",
      "\n",
      "Time: 37.157157 seconds\n",
      "\n",
      "--------------------\n",
      "EPOCH: 2\n",
      "--------------------\n",
      "Loss: 0.792588 [    0 / 60000]\n",
      "Loss: 0.691932 [ 6000 / 60000]\n",
      "Loss: 0.597644 [12000 / 60000]\n",
      "Loss: 0.759887 [18000 / 60000]\n",
      "Loss: 0.654231 [24000 / 60000]\n",
      "Loss: 0.490414 [30000 / 60000]\n",
      "Loss: 0.669019 [36000 / 60000]\n",
      "Loss: 0.557261 [42000 / 60000]\n",
      "Loss: 0.614014 [48000 / 60000]\n",
      "Loss: 0.548216 [54000 / 60000]\n",
      "\n",
      "Avg. Validation Loss: 0.639843\n",
      "Validation Accuracy: 76.200000%\n",
      "\n",
      "Time: 92.025201 seconds\n",
      "\n",
      "--------------------\n",
      "EPOCH: 3\n",
      "--------------------\n",
      "Loss: 0.557929 [    0 / 60000]\n",
      "Loss: 0.728155 [ 6000 / 60000]\n",
      "Loss: 0.504428 [12000 / 60000]\n",
      "Loss: 0.662624 [18000 / 60000]\n",
      "Loss: 0.569522 [24000 / 60000]\n",
      "Loss: 0.686912 [30000 / 60000]\n",
      "Loss: 0.462991 [36000 / 60000]\n",
      "Loss: 0.499424 [42000 / 60000]\n",
      "Loss: 0.539772 [48000 / 60000]\n",
      "Loss: 0.532900 [54000 / 60000]\n",
      "\n",
      "Avg. Validation Loss: 0.562965\n",
      "Validation Accuracy: 78.440000%\n",
      "\n",
      "Time: 143.035597 seconds\n",
      "\n",
      "--------------------\n",
      "EPOCH: 4\n",
      "--------------------\n",
      "Loss: 0.611903 [    0 / 60000]\n",
      "Loss: 0.463533 [ 6000 / 60000]\n",
      "Loss: 0.386116 [12000 / 60000]\n",
      "Loss: 0.350244 [18000 / 60000]\n",
      "Loss: 0.548633 [24000 / 60000]\n",
      "Loss: 0.624873 [30000 / 60000]\n",
      "Loss: 0.392367 [36000 / 60000]\n",
      "Loss: 0.437173 [42000 / 60000]\n",
      "Loss: 0.387429 [48000 / 60000]\n",
      "Loss: 0.716280 [54000 / 60000]\n",
      "\n",
      "Avg. Validation Loss: 0.539454\n",
      "Validation Accuracy: 79.520000%\n",
      "\n",
      "Time: 189.201575 seconds\n",
      "\n",
      "--------------------\n",
      "EPOCH: 5\n",
      "--------------------\n",
      "Loss: 0.499662 [    0 / 60000]\n",
      "Loss: 0.633867 [ 6000 / 60000]\n",
      "Loss: 0.415783 [12000 / 60000]\n",
      "Loss: 0.506109 [18000 / 60000]\n",
      "Loss: 0.421873 [24000 / 60000]\n",
      "Loss: 0.526912 [30000 / 60000]\n",
      "Loss: 0.434497 [36000 / 60000]\n",
      "Loss: 0.555395 [42000 / 60000]\n",
      "Loss: 0.545963 [48000 / 60000]\n",
      "Loss: 0.345858 [54000 / 60000]\n",
      "\n",
      "Avg. Validation Loss: 0.496988\n",
      "Validation Accuracy: 81.900000%\n",
      "\n",
      "Time: 239.347190 seconds\n",
      "\n",
      "--------------------\n",
      "EPOCH: 6\n",
      "--------------------\n",
      "Loss: 0.659742 [    0 / 60000]\n",
      "Loss: 0.383928 [ 6000 / 60000]\n",
      "Loss: 0.272170 [12000 / 60000]\n",
      "Loss: 0.500228 [18000 / 60000]\n",
      "Loss: 0.295657 [24000 / 60000]\n",
      "Loss: 0.512391 [30000 / 60000]\n",
      "Loss: 0.360345 [36000 / 60000]\n",
      "Loss: 0.646272 [42000 / 60000]\n",
      "Loss: 0.351804 [48000 / 60000]\n",
      "Loss: 0.403348 [54000 / 60000]\n",
      "\n",
      "Avg. Validation Loss: 0.461311\n",
      "Validation Accuracy: 83.400000%\n",
      "\n",
      "Time: 289.863934 seconds\n",
      "\n",
      "--------------------\n",
      "EPOCH: 7\n",
      "--------------------\n",
      "Loss: 0.490990 [    0 / 60000]\n",
      "Loss: 0.617219 [ 6000 / 60000]\n",
      "Loss: 0.481214 [12000 / 60000]\n",
      "Loss: 0.509170 [18000 / 60000]\n",
      "Loss: 0.470444 [24000 / 60000]\n",
      "Loss: 0.293558 [30000 / 60000]\n",
      "Loss: 0.637766 [36000 / 60000]\n",
      "Loss: 0.498436 [42000 / 60000]\n",
      "Loss: 0.338197 [48000 / 60000]\n",
      "Loss: 0.376700 [54000 / 60000]\n",
      "\n",
      "Avg. Validation Loss: 0.460853\n",
      "Validation Accuracy: 83.200000%\n",
      "\n",
      "Time: 340.733174 seconds\n",
      "\n",
      "--------------------\n",
      "EPOCH: 8\n",
      "--------------------\n",
      "Loss: 0.466614 [    0 / 60000]\n",
      "Loss: 0.309399 [ 6000 / 60000]\n",
      "Loss: 0.266021 [12000 / 60000]\n",
      "Loss: 0.282012 [18000 / 60000]\n",
      "Loss: 0.598761 [24000 / 60000]\n",
      "Loss: 0.354398 [30000 / 60000]\n",
      "Loss: 0.356680 [36000 / 60000]\n",
      "Loss: 0.459283 [42000 / 60000]\n",
      "Loss: 0.492488 [48000 / 60000]\n",
      "Loss: 0.374919 [54000 / 60000]\n",
      "\n",
      "Avg. Validation Loss: 0.419456\n",
      "Validation Accuracy: 84.910000%\n",
      "\n",
      "Time: 391.655072 seconds\n",
      "\n",
      "--------------------\n",
      "EPOCH: 9\n",
      "--------------------\n",
      "Loss: 0.444333 [    0 / 60000]\n",
      "Loss: 0.450641 [ 6000 / 60000]\n",
      "Loss: 0.418521 [12000 / 60000]\n",
      "Loss: 0.578961 [18000 / 60000]\n",
      "Loss: 0.239503 [24000 / 60000]\n",
      "Loss: 0.382157 [30000 / 60000]\n",
      "Loss: 0.301835 [36000 / 60000]\n",
      "Loss: 0.579365 [42000 / 60000]\n",
      "Loss: 0.278246 [48000 / 60000]\n",
      "Loss: 0.308990 [54000 / 60000]\n",
      "\n",
      "Avg. Validation Loss: 0.399271\n",
      "Validation Accuracy: 85.750000%\n",
      "\n",
      "Time: 442.300868 seconds\n",
      "\n",
      "--------------------\n",
      "EPOCH: 10\n",
      "--------------------\n",
      "Loss: 0.339188 [    0 / 60000]\n",
      "Loss: 0.300334 [ 6000 / 60000]\n",
      "Loss: 0.326893 [12000 / 60000]\n",
      "Loss: 0.380163 [18000 / 60000]\n",
      "Loss: 0.450917 [24000 / 60000]\n",
      "Loss: 0.353974 [30000 / 60000]\n",
      "Loss: 0.264356 [36000 / 60000]\n",
      "Loss: 0.455633 [42000 / 60000]\n",
      "Loss: 0.368557 [48000 / 60000]\n",
      "Loss: 0.312562 [54000 / 60000]\n",
      "\n",
      "Avg. Validation Loss: 0.389294\n",
      "Validation Accuracy: 85.920000%\n",
      "\n",
      "Time: 493.170093 seconds\n",
      "\n",
      "Saving model...\n",
      "Done!\n"
     ]
    }
   ]
  },
  {
   "cell_type": "markdown",
   "source": [
    "# Visualizing Training Results"
   ],
   "metadata": {
    "id": "640EDWVby78M",
    "pycharm": {
     "name": "#%% md\n"
    }
   }
  },
  {
   "cell_type": "code",
   "source": [
    "# Plot training and validation loss against epochs\n",
    "plt.plot([i+1 for i in range(epochs)], train_loss, label=\"Training Loss\")\n",
    "plt.plot([i+1 for i in range(epochs)], [loss[0].item() for loss in test_loss], label=\"Avg. Validation Loss\")\n",
    "\n",
    "plt.xlabel(\"Epochs\")\n",
    "plt.ylabel(\"Loss\")\n",
    "plt.legend()\n",
    "\n",
    "plt.show()"
   ],
   "metadata": {
    "colab": {
     "base_uri": "https://localhost:8080/",
     "height": 279
    },
    "id": "jMWJ83wa2ICJ",
    "outputId": "16bb1e1a-7ecd-4f1e-fbbb-5391f7faa51b",
    "pycharm": {
     "name": "#%%\n"
    }
   },
   "execution_count": 12,
   "outputs": [
    {
     "data": {
      "text/plain": "<Figure size 432x288 with 1 Axes>",
      "image/png": "[encoded data removed]"
     },
     "metadata": {
      "needs_background": "light"
     },
     "output_type": "display_data"
    }
   ]
  },
  {
   "cell_type": "code",
   "source": [
    "# Plot validation accuracy of model against epochs\n",
    "_, ax = plt.subplots()\n",
    "plt.plot([i+1 for i in range(epochs)], [loss[1] for loss in test_loss])\n",
    "\n",
    "plt.xlabel(\"Epochs\")\n",
    "plt.ylabel(\"Validation Accuracy\")\n",
    "ax.yaxis.set_major_formatter(mtick.PercentFormatter(decimals=0))\n",
    "\n",
    "plt.show()"
   ],
   "metadata": {
    "colab": {
     "base_uri": "https://localhost:8080/",
     "height": 279
    },
    "id": "PKC4p1eM6jyd",
    "outputId": "c47beac8-9c78-46a4-e3b8-fd859dacbed7",
    "pycharm": {
     "name": "#%%\n"
    }
   },
   "execution_count": 13,
   "outputs": [
    {
     "data": {
      "text/plain": "<Figure size 432x288 with 1 Axes>",
      "image/png": "[encoded data removed]"
     },
     "metadata": {
      "needs_background": "light"
     },
     "output_type": "display_data"
    }
   ]
  }
 ]
}