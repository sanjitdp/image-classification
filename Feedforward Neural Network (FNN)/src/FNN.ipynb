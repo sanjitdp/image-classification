{
 "nbformat": 4,
 "nbformat_minor": 0,
 "metadata": {
  "colab": {
   "name": "DCNN.ipynb",
   "provenance": [],
   "collapsed_sections": []
  },
  "kernelspec": {
   "name": "python3",
   "display_name": "Python 3"
  },
  "language_info": {
   "name": "python"
  },
  "accelerator": "GPU",
  "gpuClass": "standard"
 },
 "cells": [
  {
   "cell_type": "markdown",
   "source": [
    "# Importing Libraries"
   ],
   "metadata": {
    "id": "DuuXvXxUxS0z",
    "pycharm": {
     "name": "#%% md\n"
    }
   }
  },
  {
   "cell_type": "code",
   "source": [
    "import torch\n",
    "import torchvision\n",
    "import torch.nn as nn\n",
    "import torch.optim as optim\n",
    "import torchvision.transforms as transforms\n",
    "import matplotlib.pyplot as plt\n",
    "import matplotlib.ticker as mtick\n",
    "import time\n",
    "\n",
    "%matplotlib inline"
   ],
   "metadata": {
    "id": "PM3HCFrexWRg",
    "pycharm": {
     "name": "#%%\n"
    }
   },
   "execution_count": 1,
   "outputs": []
  },
  {
   "cell_type": "markdown",
   "source": [
    "# Loading and Transforming Data"
   ],
   "metadata": {
    "id": "ya3chPcC4U2E",
    "pycharm": {
     "name": "#%% md\n"
    }
   }
  },
  {
   "cell_type": "code",
   "source": [
    "# Define image transformation\n",
    "torch.manual_seed(0)\n",
    "\n",
    "img_transform = transforms.Compose([\n",
    "    transforms.ToTensor(),\n",
    "    transforms.Normalize((0.5,), (0.5,))\n",
    "    ])"
   ],
   "metadata": {
    "id": "MeupAQjlyEAm",
    "pycharm": {
     "name": "#%%\n"
    }
   },
   "execution_count": 2,
   "outputs": []
  },
  {
   "cell_type": "code",
   "source": [
    "# Create loaders for transformed image data\n",
    "train_data = torchvision.datasets.FashionMNIST(root=\"../data\", train=True, download=True, transform=img_transform)\n",
    "train_loader = torch.utils.data.DataLoader(train_data, batch_size=60, shuffle=True)\n",
    "\n",
    "test_data = torchvision.datasets.FashionMNIST(root=\"../data\", train=False, download=True, transform=img_transform)\n",
    "test_loader = torch.utils.data.DataLoader(test_data, batch_size=60, shuffle=False)"
   ],
   "metadata": {
    "id": "9aiLXuSnPGYN",
    "pycharm": {
     "name": "#%%\n"
    }
   },
   "execution_count": 3,
   "outputs": []
  },
  {
   "cell_type": "markdown",
   "source": [
    "# Visualizing Data"
   ],
   "metadata": {
    "id": "DPifR1kFR5up",
    "pycharm": {
     "name": "#%% md\n"
    }
   }
  },
  {
   "cell_type": "code",
   "source": [
    "labels_map = {\n",
    "    0: \"T-shirt / top\",\n",
    "    1: \"Trouser\",\n",
    "    2: \"Pullover\",\n",
    "    3: \"Dress\",\n",
    "    4: \"Coat\",\n",
    "    5: \"Sandal\",\n",
    "    6: \"Shirt\",\n",
    "    7: \"Sneaker\",\n",
    "    8: \"Bag\",\n",
    "    9: \"Ankle Boot\",\n",
    "}\n",
    "\n",
    "fig = plt.figure()\n",
    "\n",
    "for i in range(3):\n",
    "    img, label = train_data[torch.randint(high=len(train_data)-1, size=(1,)).item()]\n",
    "    fig.add_subplot(1, 3, i + 1)\n",
    "    plt.title(labels_map[label])\n",
    "    plt.axis(\"off\")\n",
    "    plt.imshow(img.squeeze(), cmap=\"gray\")\n",
    "\n",
    "plt.show()"
   ],
   "metadata": {
    "colab": {
     "base_uri": "https://localhost:8080/",
     "height": 145
    },
    "id": "XukQPov3R8ht",
    "outputId": "be7418a1-1439-4aaa-d3de-e55ff51d6c0b",
    "pycharm": {
     "name": "#%%\n"
    }
   },
   "execution_count": 4,
   "outputs": [
    {
     "data": {
      "text/plain": "<Figure size 432x288 with 3 Axes>",
      "image/png": "[encoded data removed]"
     },
     "metadata": {
      "needs_background": "light"
     },
     "output_type": "display_data"
    }
   ]
  },
  {
   "cell_type": "markdown",
   "source": [
    "# Creating Model"
   ],
   "metadata": {
    "id": "MMnrnp5yMplT",
    "pycharm": {
     "name": "#%% md\n"
    }
   }
  },
  {
   "cell_type": "code",
   "source": [
    "# set up GPU device\n",
    "device = torch.device(\"cuda\" if torch.cuda.is_available() else \"cpu\")\n",
    "device"
   ],
   "metadata": {
    "colab": {
     "base_uri": "https://localhost:8080/"
    },
    "id": "5CrV1U32Mt2y",
    "outputId": "b1ccab3a-a522-48c2-ea66-b4f9c9a60eb4",
    "pycharm": {
     "name": "#%%\n"
    }
   },
   "execution_count": 5,
   "outputs": [
    {
     "data": {
      "text/plain": "device(type='cpu')"
     },
     "execution_count": 5,
     "metadata": {},
     "output_type": "execute_result"
    }
   ]
  },
  {
   "cell_type": "code",
   "source": [
    "# Set up FNN\n",
    "class FeedForwardNeuralNetwork(nn.Module):\n",
    "  def __init__(self):\n",
    "    super(FeedForwardNeuralNetwork, self).__init__()\n",
    "\n",
    "    self.flatten = nn.Flatten()\n",
    "\n",
    "    self.linear_stack = nn.Sequential(\n",
    "        nn.Linear(28 * 28, 120),\n",
    "        nn.ReLU(),\n",
    "        nn.Linear(120, 84),\n",
    "        nn.ReLU(),\n",
    "        nn.Linear(84, 10)\n",
    "    )\n",
    "  \n",
    "  def forward(self, x):\n",
    "    x = self.linear_stack(self.flatten(x))\n",
    "    return x"
   ],
   "metadata": {
    "id": "m1MUoVKN4aMt",
    "pycharm": {
     "name": "#%%\n"
    }
   },
   "execution_count": 6,
   "outputs": []
  },
  {
   "cell_type": "code",
   "source": [
    "# Create instance of model on GPU\n",
    "model = FeedForwardNeuralNetwork()\n",
    "model.to(device)"
   ],
   "metadata": {
    "colab": {
     "base_uri": "https://localhost:8080/"
    },
    "id": "88UniAm3fqAH",
    "outputId": "f4209f80-5c31-4b35-9dd2-bfddcf996fc5",
    "pycharm": {
     "name": "#%%\n"
    }
   },
   "execution_count": 7,
   "outputs": [
    {
     "data": {
      "text/plain": "FeedForwardNeuralNetwork(\n  (flatten): Flatten(start_dim=1, end_dim=-1)\n  (linear_stack): Sequential(\n    (0): Linear(in_features=784, out_features=120, bias=True)\n    (1): ReLU()\n    (2): Linear(in_features=120, out_features=84, bias=True)\n    (3): ReLU()\n    (4): Linear(in_features=84, out_features=10, bias=True)\n  )\n)"
     },
     "execution_count": 7,
     "metadata": {},
     "output_type": "execute_result"
    }
   ]
  },
  {
   "cell_type": "code",
   "source": [
    "# Choose loss function and optimizer\n",
    "loss_fn = nn.CrossEntropyLoss()\n",
    "optimizer = optim.SGD(model.parameters(), lr=0.001, momentum=0.9)"
   ],
   "metadata": {
    "id": "L36TJS-aQaYC",
    "pycharm": {
     "name": "#%%\n"
    }
   },
   "execution_count": 8,
   "outputs": []
  },
  {
   "cell_type": "code",
   "source": [
    "# Train model for one epoch\n",
    "def train_one_epoch(model, loader, loss_fn, optimizer, device):\n",
    "  for batch, (inputs, labels) in enumerate(loader):\n",
    "    # Move training data to GPU\n",
    "    inputs, labels = inputs.to(device), labels.to(device)\n",
    "\n",
    "    # Predict and compute loss\n",
    "    labels_pred = model(inputs)\n",
    "    loss = loss_fn(labels_pred, labels)\n",
    "\n",
    "    # Backpropagation to learn weights\n",
    "    optimizer.zero_grad()\n",
    "    loss.backward()\n",
    "    optimizer.step()\n",
    "\n",
    "    if batch % 100 == 0:\n",
    "      print(f\"Loss: {loss.item():>7f} [{batch*len(inputs):>5d} / {len(loader.dataset):>5d}]\")\n",
    "  \n",
    "  return loss.item()"
   ],
   "metadata": {
    "id": "qh97Jdj6jm6X",
    "pycharm": {
     "name": "#%%\n"
    }
   },
   "execution_count": 9,
   "outputs": []
  },
  {
   "cell_type": "code",
   "source": [
    "# Test model for one epoch\n",
    "def test_one_epoch(model, loader, loss_fn, device):\n",
    "  with torch.no_grad():\n",
    "    running_loss = 0\n",
    "    running_correct = 0\n",
    "\n",
    "    for batch, (inputs, labels) in enumerate(loader):\n",
    "      # Move training data to GPU\n",
    "      inputs, labels = inputs.to(device), labels.to(device)\n",
    "\n",
    "      # Predict and compute loss\n",
    "      labels_pred = model(inputs)\n",
    "\n",
    "      # Add to running loss\n",
    "      loss = loss_fn(labels_pred, labels)\n",
    "      running_loss += loss\n",
    "\n",
    "      # Add to running correct count\n",
    "      correct = (labels_pred.argmax(1) == labels).type(torch.float).sum().item()\n",
    "      running_correct += correct\n",
    "      \n",
    "    print(f\"\\nAvg. Validation Loss: {running_loss/len(loader):>7f}\")\n",
    "    print(f\"Validation Accuracy: {running_correct/len(loader.dataset)*100:>2f}%\\n\")\n",
    "\n",
    "    return running_loss/len(loader), running_correct/len(loader.dataset)*100"
   ],
   "metadata": {
    "id": "hWL7kqJYnGts",
    "pycharm": {
     "name": "#%%\n"
    }
   },
   "execution_count": 10,
   "outputs": []
  },
  {
   "cell_type": "code",
   "source": [
    "# Number of epochs\n",
    "epochs = 10\n",
    "\n",
    "# Training loop\n",
    "train_loss = []\n",
    "test_loss = []\n",
    "\n",
    "start_time = time.time()\n",
    "for epoch in range(epochs):\n",
    "  print(f\"--------------------\\nEPOCH: {epoch+1}\\n--------------------\")\n",
    "  train_loss.append(train_one_epoch(model, train_loader, loss_fn, optimizer, device))\n",
    "  test_loss.append(test_one_epoch(model, test_loader, loss_fn, device))\n",
    "  print(f\"Time: {time.time()-start_time:>2f} seconds\\n\")\n",
    "\n",
    "# Save model\n",
    "print(\"Saving model...\")\n",
    "torch.save(model, \"../trained_models/fnn_fashion_mnist\")\n",
    "\n",
    "print(\"Done!\")"
   ],
   "metadata": {
    "colab": {
     "base_uri": "https://localhost:8080/"
    },
    "id": "DWBvP8I8hw-B",
    "outputId": "fa6a7f12-e1b9-4777-c8c8-008ccd095766",
    "pycharm": {
     "name": "#%%\n"
    }
   },
   "execution_count": 11,
   "outputs": [
    {
     "name": "stdout",
     "output_type": "stream",
     "text": [
      "--------------------\n",
      "EPOCH: 1\n",
      "--------------------\n",
      "Loss: 2.295656 [    0 / 60000]\n",
      "Loss: 1.851956 [ 6000 / 60000]\n",
      "Loss: 1.484009 [12000 / 60000]\n",
      "Loss: 1.081764 [18000 / 60000]\n",
      "Loss: 0.968114 [24000 / 60000]\n",
      "Loss: 0.743843 [30000 / 60000]\n",
      "Loss: 0.682334 [36000 / 60000]\n",
      "Loss: 0.616834 [42000 / 60000]\n",
      "Loss: 0.600952 [48000 / 60000]\n",
      "Loss: 0.775839 [54000 / 60000]\n",
      "\n",
      "Avg. Validation Loss: 0.630898\n",
      "Validation Accuracy: 76.890000%\n",
      "\n",
      "Time: 23.887780 seconds\n",
      "\n",
      "--------------------\n",
      "EPOCH: 2\n",
      "--------------------\n",
      "Loss: 0.429591 [    0 / 60000]\n",
      "Loss: 0.602837 [ 6000 / 60000]\n",
      "Loss: 0.630178 [12000 / 60000]\n",
      "Loss: 0.707261 [18000 / 60000]\n",
      "Loss: 0.514489 [24000 / 60000]\n",
      "Loss: 0.430944 [30000 / 60000]\n",
      "Loss: 0.463064 [36000 / 60000]\n",
      "Loss: 0.571535 [42000 / 60000]\n",
      "Loss: 0.466130 [48000 / 60000]\n",
      "Loss: 0.627953 [54000 / 60000]\n",
      "\n",
      "Avg. Validation Loss: 0.527568\n",
      "Validation Accuracy: 80.650000%\n",
      "\n",
      "Time: 48.408905 seconds\n",
      "\n",
      "--------------------\n",
      "EPOCH: 3\n",
      "--------------------\n",
      "Loss: 0.487690 [    0 / 60000]\n",
      "Loss: 0.572954 [ 6000 / 60000]\n",
      "Loss: 0.745997 [12000 / 60000]\n",
      "Loss: 0.469834 [18000 / 60000]\n",
      "Loss: 0.593397 [24000 / 60000]\n",
      "Loss: 0.423547 [30000 / 60000]\n",
      "Loss: 0.331955 [36000 / 60000]\n",
      "Loss: 0.406606 [42000 / 60000]\n",
      "Loss: 0.518224 [48000 / 60000]\n",
      "Loss: 0.509106 [54000 / 60000]\n",
      "\n",
      "Avg. Validation Loss: 0.487263\n",
      "Validation Accuracy: 82.230000%\n",
      "\n",
      "Time: 80.428965 seconds\n",
      "\n",
      "--------------------\n",
      "EPOCH: 4\n",
      "--------------------\n",
      "Loss: 0.370944 [    0 / 60000]\n",
      "Loss: 0.475058 [ 6000 / 60000]\n",
      "Loss: 0.432655 [12000 / 60000]\n",
      "Loss: 0.443745 [18000 / 60000]\n",
      "Loss: 0.342252 [24000 / 60000]\n",
      "Loss: 0.279754 [30000 / 60000]\n",
      "Loss: 0.682599 [36000 / 60000]\n",
      "Loss: 0.459319 [42000 / 60000]\n",
      "Loss: 0.401001 [48000 / 60000]\n",
      "Loss: 0.439906 [54000 / 60000]\n",
      "\n",
      "Avg. Validation Loss: 0.467277\n",
      "Validation Accuracy: 83.260000%\n",
      "\n",
      "Time: 119.278617 seconds\n",
      "\n",
      "--------------------\n",
      "EPOCH: 5\n",
      "--------------------\n",
      "Loss: 0.499507 [    0 / 60000]\n",
      "Loss: 0.511394 [ 6000 / 60000]\n",
      "Loss: 0.496989 [12000 / 60000]\n",
      "Loss: 0.293071 [18000 / 60000]\n",
      "Loss: 0.200021 [24000 / 60000]\n",
      "Loss: 0.456044 [30000 / 60000]\n",
      "Loss: 0.403306 [36000 / 60000]\n",
      "Loss: 0.422318 [42000 / 60000]\n",
      "Loss: 0.389977 [48000 / 60000]\n",
      "Loss: 0.475360 [54000 / 60000]\n",
      "\n",
      "Avg. Validation Loss: 0.447947\n",
      "Validation Accuracy: 83.760000%\n",
      "\n",
      "Time: 158.110517 seconds\n",
      "\n",
      "--------------------\n",
      "EPOCH: 6\n",
      "--------------------\n",
      "Loss: 0.302436 [    0 / 60000]\n",
      "Loss: 0.386717 [ 6000 / 60000]\n",
      "Loss: 0.333026 [12000 / 60000]\n",
      "Loss: 0.433028 [18000 / 60000]\n",
      "Loss: 0.291411 [24000 / 60000]\n",
      "Loss: 0.438374 [30000 / 60000]\n",
      "Loss: 0.395719 [36000 / 60000]\n",
      "Loss: 0.321791 [42000 / 60000]\n",
      "Loss: 0.476050 [48000 / 60000]\n",
      "Loss: 0.468487 [54000 / 60000]\n",
      "\n",
      "Avg. Validation Loss: 0.438427\n",
      "Validation Accuracy: 84.080000%\n",
      "\n",
      "Time: 195.124888 seconds\n",
      "\n",
      "--------------------\n",
      "EPOCH: 7\n",
      "--------------------\n",
      "Loss: 0.246955 [    0 / 60000]\n",
      "Loss: 0.177174 [ 6000 / 60000]\n",
      "Loss: 0.429659 [12000 / 60000]\n",
      "Loss: 0.462777 [18000 / 60000]\n",
      "Loss: 0.371947 [24000 / 60000]\n",
      "Loss: 0.321347 [30000 / 60000]\n",
      "Loss: 0.493570 [36000 / 60000]\n",
      "Loss: 0.306159 [42000 / 60000]\n",
      "Loss: 0.233868 [48000 / 60000]\n",
      "Loss: 0.361427 [54000 / 60000]\n",
      "\n",
      "Avg. Validation Loss: 0.427000\n",
      "Validation Accuracy: 84.430000%\n",
      "\n",
      "Time: 232.440620 seconds\n",
      "\n",
      "--------------------\n",
      "EPOCH: 8\n",
      "--------------------\n",
      "Loss: 0.334876 [    0 / 60000]\n",
      "Loss: 0.394735 [ 6000 / 60000]\n",
      "Loss: 0.349883 [12000 / 60000]\n",
      "Loss: 0.471956 [18000 / 60000]\n",
      "Loss: 0.459433 [24000 / 60000]\n",
      "Loss: 0.440007 [30000 / 60000]\n",
      "Loss: 0.400560 [36000 / 60000]\n",
      "Loss: 0.484550 [42000 / 60000]\n",
      "Loss: 0.285765 [48000 / 60000]\n",
      "Loss: 0.354959 [54000 / 60000]\n",
      "\n",
      "Avg. Validation Loss: 0.421152\n",
      "Validation Accuracy: 84.420000%\n",
      "\n",
      "Time: 271.114396 seconds\n",
      "\n",
      "--------------------\n",
      "EPOCH: 9\n",
      "--------------------\n",
      "Loss: 0.243495 [    0 / 60000]\n",
      "Loss: 0.383197 [ 6000 / 60000]\n",
      "Loss: 0.428401 [12000 / 60000]\n",
      "Loss: 0.182867 [18000 / 60000]\n",
      "Loss: 0.416527 [24000 / 60000]\n",
      "Loss: 0.314442 [30000 / 60000]\n",
      "Loss: 0.498973 [36000 / 60000]\n",
      "Loss: 0.312748 [42000 / 60000]\n",
      "Loss: 0.345385 [48000 / 60000]\n",
      "Loss: 0.354488 [54000 / 60000]\n",
      "\n",
      "Avg. Validation Loss: 0.421654\n",
      "Validation Accuracy: 84.920000%\n",
      "\n",
      "Time: 308.164480 seconds\n",
      "\n",
      "--------------------\n",
      "EPOCH: 10\n",
      "--------------------\n",
      "Loss: 0.303203 [    0 / 60000]\n",
      "Loss: 0.500440 [ 6000 / 60000]\n",
      "Loss: 0.444152 [12000 / 60000]\n",
      "Loss: 0.403358 [18000 / 60000]\n",
      "Loss: 0.464222 [24000 / 60000]\n",
      "Loss: 0.397004 [30000 / 60000]\n",
      "Loss: 0.452015 [36000 / 60000]\n",
      "Loss: 0.518039 [42000 / 60000]\n",
      "Loss: 0.354911 [48000 / 60000]\n",
      "Loss: 0.572470 [54000 / 60000]\n",
      "\n",
      "Avg. Validation Loss: 0.402694\n",
      "Validation Accuracy: 85.310000%\n",
      "\n",
      "Time: 344.916342 seconds\n",
      "\n",
      "Saving model...\n",
      "Done!\n"
     ]
    }
   ]
  },
  {
   "cell_type": "markdown",
   "source": [
    "# Visualizing Training Results"
   ],
   "metadata": {
    "id": "640EDWVby78M",
    "pycharm": {
     "name": "#%% md\n"
    }
   }
  },
  {
   "cell_type": "code",
   "source": [
    "# Plot training and validation loss against epochs\n",
    "plt.plot([i+1 for i in range(epochs)], train_loss, label=\"Training Loss\")\n",
    "plt.plot([i+1 for i in range(epochs)], [loss[0].item() for loss in test_loss], label=\"Avg. Validation Loss\")\n",
    "\n",
    "plt.xlabel(\"Epochs\")\n",
    "plt.ylabel(\"Loss\")\n",
    "plt.legend()\n",
    "\n",
    "plt.show()"
   ],
   "metadata": {
    "colab": {
     "base_uri": "https://localhost:8080/",
     "height": 279
    },
    "id": "jMWJ83wa2ICJ",
    "outputId": "16bb1e1a-7ecd-4f1e-fbbb-5391f7faa51b",
    "pycharm": {
     "name": "#%%\n"
    }
   },
   "execution_count": 12,
   "outputs": [
    {
     "data": {
      "text/plain": "<Figure size 432x288 with 1 Axes>",
      "image/png": "[encoded data removed]"
     },
     "metadata": {
      "needs_background": "light"
     },
     "output_type": "display_data"
    }
   ]
  },
  {
   "cell_type": "code",
   "source": [
    "# Plot validation accuracy of model against epochs\n",
    "_, ax = plt.subplots()\n",
    "plt.plot([i+1 for i in range(epochs)], [loss[1] for loss in test_loss])\n",
    "\n",
    "plt.xlabel(\"Epochs\")\n",
    "plt.ylabel(\"Validation Accuracy\")\n",
    "ax.yaxis.set_major_formatter(mtick.PercentFormatter(decimals=0))\n",
    "\n",
    "plt.show()"
   ],
   "metadata": {
    "colab": {
     "base_uri": "https://localhost:8080/",
     "height": 279
    },
    "id": "PKC4p1eM6jyd",
    "outputId": "c47beac8-9c78-46a4-e3b8-fd859dacbed7",
    "pycharm": {
     "name": "#%%\n"
    }
   },
   "execution_count": 13,
   "outputs": [
    {
     "data": {
      "text/plain": "<Figure size 432x288 with 1 Axes>",
      "image/png": "[encoded data removed]"
     },
     "metadata": {
      "needs_background": "light"
     },
     "output_type": "display_data"
    }
   ]
  }
 ]
}